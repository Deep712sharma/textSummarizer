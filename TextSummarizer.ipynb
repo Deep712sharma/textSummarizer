{
 "cells": [
  {
   "cell_type": "code",
   "execution_count": 1,
   "id": "1175c9bb",
   "metadata": {
    "scrolled": false
   },
   "outputs": [],
   "source": [
    "from os import chdir, getcwd, listdir, makedirs\n",
    "from os.path import join,splitext\n",
    "from docx import Document\n",
    "import spacy\n",
    "from spacy.lang.en.stop_words import STOP_WORDS\n",
    "from string import punctuation\n",
    "from heapq import nlargest\n",
    "import fitz\n",
    "import pytesseract\n",
    "from pytesseract import image_to_string\n",
    "from PIL import Image\n",
    "from PyPDF2 import PdfReader\n",
    "import io\n",
    "from pdf2image import convert_from_path"
   ]
  },
  {
   "cell_type": "code",
   "execution_count": 4,
   "id": "5c93361c",
   "metadata": {
    "scrolled": true
   },
   "outputs": [],
   "source": [
    "current_dir = getcwd()"
   ]
  },
  {
   "cell_type": "code",
   "execution_count": 5,
   "id": "efcee14f",
   "metadata": {
    "scrolled": true
   },
   "outputs": [
   ],
   "source": [
    "# Access a specific folder within the current directory\n",
    "target_folder = join(current_dir, r\"C:\\Users\\acer\\Desktop\\test\")\n",
    "print(\"Target Folder Path:\", target_folder)"
   ]
  },
  {
   "cell_type": "code",
   "execution_count": 6,
   "id": "d080e258",
   "metadata": {
    "scrolled": true
   },
   "outputs": [
   ],
   "source": [
    "# List files and subdirectories within a folder\n",
    "file_list = listdir(target_folder)\n",
    "print(\"Files in Target Folder:\", file_list)"
   ]
  },
  {
   "cell_type": "code",
   "execution_count": 7,
   "id": "c54c7cca",
   "metadata": {},
   "outputs": [],
   "source": [
    "stopwords = list(STOP_WORDS)\n",
    "nlp = spacy.load('en_core_web_sm')\n",
    "content = \"\""
   ]
  },
  {
   "cell_type": "code",
   "execution_count": 8,
   "id": "3b7836a2",
   "metadata": {},
   "outputs": [],
   "source": [
    "pytesseract.pytesseract.tesseract_cmd = r'C:\\Program Files\\Tesseract-OCR\\tesseract.exe'"
   ]
  },
  {
   "cell_type": "code",
   "execution_count": 11,
   "id": "28516314",
   "metadata": {},
   "outputs": [
   ],
   "source": [
    "for i in file_list:\n",
    "    path = r\"C:\\Users\\acer\\Desktop\\test\\{}\".format(i)\n",
    "    def get_file_extension(path):\n",
    "        return splitext(path)[1][1:]  # Remove the leading dot\n",
    "    # Example usage:\n",
    "    extension = get_file_extension(path)\n",
    "    #print(\"File extension:\", extension)\n",
    "    if(extension == 'docx'):\n",
    "        # Load the Word document\n",
    "        doc = Document(path)\n",
    "        # Read the content of the document\n",
    "        content = \"\\n\".join([para.text for para in doc.paragraphs])\n",
    "    else:\n",
    "        def check_pdf_content(pdf_path):\n",
    "            has_text = False\n",
    "            has_images = False\n",
    "            with open(pdf_path, 'rb') as pdf_file:\n",
    "                pdf_reader = PdfReader(pdf_file)\n",
    "                # Check if the PDF contains text\n",
    "                for page_num in range(len(pdf_reader.pages)):\n",
    "                    page = pdf_reader.pages[page_num]\n",
    "                    page_text = page.extract_text()\n",
    "                    if page_text.strip():  # Check if the extracted text is not empty\n",
    "                        has_text = True\n",
    "                        break\n",
    "                # Check if the PDF contains images\n",
    "                for page_num in range(len(pdf_reader.pages)):\n",
    "                    page = pdf_reader.pages[page_num]\n",
    "                    xObject = page['/Resources']['/XObject'].get_object()\n",
    "                    if xObject is not None:\n",
    "                        for obj in xObject:\n",
    "                            if xObject[obj]['/Subtype'] == '/Image':\n",
    "                                has_images = True\n",
    "                                break\n",
    "            return has_text, has_images\n",
    "        if __name__ == \"__main__\":\n",
    "            text_present, images_present = check_pdf_content(path)\n",
    "\n",
    "            if text_present:\n",
    "                # If the page has text, extract it directly\n",
    "                with open(path, 'rb') as pdf_file:\n",
    "                    # Create a PDF reader object\n",
    "                    pdf = PdfReader(pdf_file)\n",
    "                    # Get the number of pages in the PDF\n",
    "                    num_pages = len(pdf.pages)\n",
    "                    # Extract text from all pages and store it in the 'text' variable\n",
    "                    content = ''\n",
    "                    for page_num in range(num_pages):\n",
    "                        page = pdf.pages[page_num]\n",
    "                        content += page.extract_text()\n",
    "                #print(\"The PDF contains text.\")\n",
    "\n",
    "            elif images_present:\n",
    "                    # Open the PDF file and read its content using PyPDF2\n",
    "                    with open(path, 'rb') as pdf_file:\n",
    "                        pdf_reader = PdfReader(pdf_file)\n",
    "                        # Iterate through all pages\n",
    "                        for page_num in range(len(pdf_reader.pages)):\n",
    "                            # Convert the page to an image using pdf2image\n",
    "                            images = convert_from_path(path, first_page=page_num + 1, last_page=page_num + 1, poppler_path = r\"C:\\Users\\acer\\Downloads\\Release-23.07.0-0\\poppler-23.07.0\\Library\\bin\")\n",
    "                            # Save each image to the output folder\n",
    "                            for idx, image in enumerate(images):\n",
    "                                #image_path = join(f\"page{page_num + 1}_image{idx + 1}.jpg\")\n",
    "                                #img = image.save(image_path, 'JPEG')\n",
    "                                extracted_text = pytesseract.image_to_string(Image.open(join(f\"page{page_num + 1}_image{idx + 1}.jpg\")))\n",
    "                                content += extracted_text + \"\\n\"\n",
    "\n",
    "    #print(content)\n",
    "    doc = nlp(content)\n",
    "    tokens = [token.text for token in doc]\n",
    "    #print(tokens)\n",
    "    punctuation = punctuation + '\\n'\n",
    "    word_frequencies = {}\n",
    "    for word in doc:\n",
    "        if word.text.lower() not in stopwords:\n",
    "            if word.text.lower() not in punctuation:\n",
    "                if word.text not in word_frequencies.keys():\n",
    "                    word_frequencies[word.text] = 1\n",
    "                else:\n",
    "                    word_frequencies[word.text] += 1\n",
    "                #print(word_frequencies)\n",
    "                max_frequency = max(word_frequencies.values())\n",
    "    for word in word_frequencies.keys():\n",
    "        word_frequencies[word] = word_frequencies[word]/max_frequency\n",
    "        #print(word_frequencies)\n",
    "    sentence_tokens = [sent for sent in doc.sents]\n",
    "    #print(sentence_tokens)\n",
    "    sentence_scores = {}\n",
    "    for sent in sentence_tokens:\n",
    "        for word in sent:\n",
    "            if word.text.lower() in word_frequencies.keys():\n",
    "                if sent not in sentence_scores.keys():\n",
    "                    sentence_scores[sent] = word_frequencies[word.text.lower()]\n",
    "                else:\n",
    "                    sentence_scores[sent] += word_frequencies[word.text.lower()]\n",
    "    select_length = int(len(sentence_tokens)*0.3)\n",
    "    summary = nlargest(select_length, sentence_scores, key = sentence_scores.get)\n",
    "    final_summary = [word.text for word in summary]\n",
    "    summary = ' '.join(final_summary)\n",
    "    print(summary)\n",
    "    print(len(summary))\n",
    "    print(len(content))"
   ]
  },
  {
   "cell_type": "code",
   "execution_count": null,
   "id": "e6fc3cd3",
   "metadata": {},
   "outputs": [],
   "source": []
  }
 ],
 "metadata": {
  "kernelspec": {
   "display_name": "Python 3 (ipykernel)",
   "language": "python",
   "name": "python3"
  },
  "language_info": {
   "codemirror_mode": {
    "name": "ipython",
    "version": 3
   },
   "file_extension": ".py",
   "mimetype": "text/x-python",
   "name": "python",
   "nbconvert_exporter": "python",
   "pygments_lexer": "ipython3",
   "version": "3.11.3"
  }
 },
 "nbformat": 4,
 "nbformat_minor": 5
}
